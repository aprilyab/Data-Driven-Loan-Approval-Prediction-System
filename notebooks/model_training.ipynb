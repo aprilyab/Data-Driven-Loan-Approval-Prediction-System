{
 "cells": [
  {
   "cell_type": "markdown",
   "id": "c89ff285",
   "metadata": {},
   "source": [
    "## model training"
   ]
  },
  {
   "cell_type": "code",
   "execution_count": 5,
   "id": "44b17fd9",
   "metadata": {},
   "outputs": [],
   "source": [
    "import sys\n",
    "import os\n",
    "\n",
    "# Set project root to Python path\n",
    "project_root = r\"C:\\Users\\user\\Desktop\\Elavvo ML Internship\\Data-Driven Loan Approval Prediction System\"\n",
    "if project_root not in sys.path:\n",
    "    sys.path.append(project_root)\n"
   ]
  },
  {
   "cell_type": "code",
   "execution_count": 6,
   "id": "1f377f43",
   "metadata": {},
   "outputs": [],
   "source": [
    "import pandas as pd\n",
    "import numpy as np\n",
    "import matplotlib.pyplot as plt\n",
    "import joblib\n",
    "from sklearn.model_selection import train_test_split\n",
    "from sklearn.linear_model import LogisticRegression\n",
    "from sklearn.tree import DecisionTreeClassifier,plot_tree\n",
    "from imblearn.over_sampling import SMOTE\n",
    "from src.data_cleaning_and_preprocessing import data_cleaning"
   ]
  },
  {
   "cell_type": "code",
   "execution_count": null,
   "id": "099f09e8",
   "metadata": {},
   "outputs": [],
   "source": [
    "scaler,df=data_cleaning()\n",
    "\n",
    "# split the dataset to predictor and target features\n",
    "x=df.drop(\" loan_status\",axis=1)\n",
    "y=df[\" loan_status\"]"
   ]
  },
  {
   "cell_type": "code",
   "execution_count": null,
   "id": "c97191b8",
   "metadata": {},
   "outputs": [],
   "source": [
    " # split the dataset to train and split for training the model\n",
    "x_train,x_test,y_train,y_test=train_test_split(x,y,test_size=0.2,random_state=42)\n",
    "\n",
    "smote=SMOTE(random_state=42)\n",
    "x_train,y_train=smote.fit_resample(x_train,y_train)"
   ]
  },
  {
   "cell_type": "code",
   "execution_count": null,
   "id": "7e7576f7",
   "metadata": {},
   "outputs": [],
   "source": [
    " # create model objects\n",
    "tree_model=DecisionTreeClassifier(criterion=\"entropy\",max_depth=4)\n",
    "logistic_model=LogisticRegression()\n",
    "\n",
    "# model_training\n",
    "tree_model.fit(x_train,y_train)\n",
    "logistic_model.fit(x_train,y_train)"
   ]
  },
  {
   "cell_type": "code",
   "execution_count": null,
   "id": "e0b472b8",
   "metadata": {},
   "outputs": [],
   "source": [
    "# make prediction from models for evaluation\n",
    "logistic_y_pre=logistic_model.predict(x_test)\n",
    "tree_y_pre=tree_model.predict(x_test)\n",
    "\n",
    "# prediction probability for each class\n",
    "logistic_y_proba = logistic_model.predict_proba(x_test)\n",
    "tree_y_proba = tree_model.predict_proba(x_test)"
   ]
  },
  {
   "cell_type": "code",
   "execution_count": null,
   "id": "22608c72",
   "metadata": {},
   "outputs": [],
   "source": [
    "\n",
    "# plot the decision tree\n",
    "plot_tree(tree_model,feature_names=x_train.columns, \n",
    "          class_names=[\"Rejected\", \"Approved\"],  # class names\n",
    "          filled=True,  # colors nodes by class\n",
    "          rounded=True,  # rounded boxes\n",
    "          fontsize=12)   # font size)\n",
    "plt.savefig(\"outputs/figures/Decision_Tree_Model_plot\")\n",
    "plt.show()"
   ]
  },
  {
   "cell_type": "code",
   "execution_count": null,
   "id": "c4f4deb2",
   "metadata": {},
   "outputs": [],
   "source": [
    "# save the models\n",
    "joblib.dump(logistic_model,\"outputs/models/Logical_Regression_Loan_Approval_Predictor_model.pkl\")\n",
    "joblib.dump(tree_model,\"outputs/models/Decision_Tree_Loan_Approval_Predictor_model.pkl\")\n",
    "joblib.dump(scaler,\"outputs/Scaler\")\n"
   ]
  }
 ],
 "metadata": {
  "kernelspec": {
   "display_name": "Python 3",
   "language": "python",
   "name": "python3"
  },
  "language_info": {
   "codemirror_mode": {
    "name": "ipython",
    "version": 3
   },
   "file_extension": ".py",
   "mimetype": "text/x-python",
   "name": "python",
   "nbconvert_exporter": "python",
   "pygments_lexer": "ipython3",
   "version": "3.13.3"
  }
 },
 "nbformat": 4,
 "nbformat_minor": 5
}
