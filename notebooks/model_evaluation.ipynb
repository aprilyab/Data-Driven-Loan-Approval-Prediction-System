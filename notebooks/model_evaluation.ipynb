{
 "cells": [
  {
   "cell_type": "code",
   "execution_count": null,
   "id": "269b0d3e",
   "metadata": {},
   "outputs": [],
   "source": [
    "## model Evaluation"
   ]
  },
  {
   "cell_type": "code",
   "execution_count": null,
   "id": "d95c6e8f",
   "metadata": {},
   "outputs": [],
   "source": []
  },
  {
   "cell_type": "code",
   "execution_count": 1,
   "id": "8ef81dc6",
   "metadata": {},
   "outputs": [
    {
     "ename": "ModuleNotFoundError",
     "evalue": "No module named 'src'",
     "output_type": "error",
     "traceback": [
      "\u001b[1;31m---------------------------------------------------------------------------\u001b[0m",
      "\u001b[1;31mModuleNotFoundError\u001b[0m                       Traceback (most recent call last)",
      "Cell \u001b[1;32mIn[1], line 3\u001b[0m\n\u001b[0;32m      1\u001b[0m \u001b[38;5;28;01mimport\u001b[39;00m\u001b[38;5;250m \u001b[39m\u001b[38;5;21;01msys\u001b[39;00m\n\u001b[0;32m      2\u001b[0m sys\u001b[38;5;241m.\u001b[39mpath\u001b[38;5;241m.\u001b[39mappend(\u001b[38;5;124m\"\u001b[39m\u001b[38;5;124m../src\u001b[39m\u001b[38;5;124m\"\u001b[39m) \n\u001b[1;32m----> 3\u001b[0m \u001b[38;5;28;01mfrom\u001b[39;00m\u001b[38;5;250m \u001b[39m\u001b[38;5;21;01mmodel_training\u001b[39;00m\u001b[38;5;250m \u001b[39m\u001b[38;5;28;01mimport\u001b[39;00m model_training\n\u001b[0;32m      4\u001b[0m \u001b[38;5;28;01mfrom\u001b[39;00m\u001b[38;5;250m \u001b[39m\u001b[38;5;21;01msklearn\u001b[39;00m\u001b[38;5;21;01m.\u001b[39;00m\u001b[38;5;21;01mmetrics\u001b[39;00m\u001b[38;5;250m \u001b[39m\u001b[38;5;28;01mimport\u001b[39;00m accuracy_score,log_loss\n\u001b[0;32m      5\u001b[0m \u001b[38;5;28;01mimport\u001b[39;00m\u001b[38;5;250m \u001b[39m\u001b[38;5;21;01mjson\u001b[39;00m\n",
      "File \u001b[1;32mc:\\Users\\user\\Desktop\\Elavvo ML Internship\\Data-Driven Loan Approval Prediction System\\notebooks\\../src\\model_training.py:9\u001b[0m\n\u001b[0;32m      7\u001b[0m \u001b[38;5;28;01mfrom\u001b[39;00m\u001b[38;5;250m \u001b[39m\u001b[38;5;21;01msklearn\u001b[39;00m\u001b[38;5;21;01m.\u001b[39;00m\u001b[38;5;21;01mtree\u001b[39;00m\u001b[38;5;250m \u001b[39m\u001b[38;5;28;01mimport\u001b[39;00m DecisionTreeClassifier,plot_tree\n\u001b[0;32m      8\u001b[0m \u001b[38;5;28;01mfrom\u001b[39;00m\u001b[38;5;250m \u001b[39m\u001b[38;5;21;01mimblearn\u001b[39;00m\u001b[38;5;21;01m.\u001b[39;00m\u001b[38;5;21;01mover_sampling\u001b[39;00m\u001b[38;5;250m \u001b[39m\u001b[38;5;28;01mimport\u001b[39;00m SMOTE\n\u001b[1;32m----> 9\u001b[0m \u001b[38;5;28;01mfrom\u001b[39;00m\u001b[38;5;250m \u001b[39m\u001b[38;5;21;01msrc\u001b[39;00m\u001b[38;5;21;01m.\u001b[39;00m\u001b[38;5;21;01mdata_cleaning_and_preprocessing\u001b[39;00m\u001b[38;5;250m \u001b[39m\u001b[38;5;28;01mimport\u001b[39;00m data_cleaning\n\u001b[0;32m     13\u001b[0m \u001b[38;5;28;01mdef\u001b[39;00m\u001b[38;5;250m \u001b[39m\u001b[38;5;21mmodel_training\u001b[39m():\n\u001b[0;32m     14\u001b[0m     scaler,df\u001b[38;5;241m=\u001b[39mdata_cleaning()\n",
      "\u001b[1;31mModuleNotFoundError\u001b[0m: No module named 'src'"
     ]
    }
   ],
   "source": [
    "import sys\n",
    "sys.path.append(\"../src\") \n",
    "from model_training import model_training\n",
    "from sklearn.metrics import accuracy_score,log_loss\n",
    "import json\n",
    "import joblib"
   ]
  },
  {
   "cell_type": "code",
   "execution_count": null,
   "id": "523ebb7d",
   "metadata": {},
   "outputs": [],
   "source": [
    "logistic_model=joblib.load(\"outputs/models/Logical_Regression_Loan_Approval_Predictor_model.pkl\")\n",
    "scaler=joblib.load(\"outputs/Scaler\")\n",
    "tree_mode=joblib.load(\"outputs/models/Decision_Tree_Loan_Approval_Predictor_model.pkl\")"
   ]
  },
  {
   "cell_type": "code",
   "execution_count": null,
   "id": "d0cc899d",
   "metadata": {},
   "outputs": [],
   "source": [
    " # load files for evaluation\n",
    "y_test,tree_y_pre,logistic_y_pre,tree_y_proba,logistic_y_proba=model_training()"
   ]
  },
  {
   "cell_type": "code",
   "execution_count": null,
   "id": "19b5bbd9",
   "metadata": {},
   "outputs": [],
   "source": [
    "    # evaluation vie accuracy score\n",
    "as_tree=accuracy_score(y_test,tree_y_pre)\n",
    "as_logistic=accuracy_score(y_test,logistic_y_pre)\n",
    "    \n",
    "    # evaluation via log loss\n",
    "ll_tree=log_loss(y_test,tree_y_proba)\n",
    "ll_logistic=log_loss(y_test,logistic_y_proba)"
   ]
  },
  {
   "cell_type": "code",
   "execution_count": null,
   "id": "d99cd895",
   "metadata": {},
   "outputs": [],
   "source": [
    " # create metrics dictionary\n",
    "metrics = {\n",
    "        \"Decision Tree\": {\n",
    "            \"Accuracy Score\": as_tree,\n",
    "            \"Log Loss\": ll_tree\n",
    "        },\n",
    "        \"Logistic Regression\": {\n",
    "            \"Accuracy Score\": as_logistic,\n",
    "            \"Log Loss\": ll_logistic\n",
    "        }\n",
    "    }"
   ]
  },
  {
   "cell_type": "code",
   "execution_count": null,
   "id": "7ac3e7b8",
   "metadata": {},
   "outputs": [],
   "source": [
    "# save the evaluation matrics\n",
    "with open (\"outputs/metrics.json\",\"w\") as f:\n",
    "        json.dump(metrics,f)"
   ]
  }
 ],
 "metadata": {
  "kernelspec": {
   "display_name": "Python 3",
   "language": "python",
   "name": "python3"
  },
  "language_info": {
   "codemirror_mode": {
    "name": "ipython",
    "version": 3
   },
   "file_extension": ".py",
   "mimetype": "text/x-python",
   "name": "python",
   "nbconvert_exporter": "python",
   "pygments_lexer": "ipython3",
   "version": "3.13.3"
  }
 },
 "nbformat": 4,
 "nbformat_minor": 5
}
