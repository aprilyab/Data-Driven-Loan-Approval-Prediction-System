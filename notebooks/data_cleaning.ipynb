{
 "cells": [
  {
   "cell_type": "markdown",
   "id": "6b072b30",
   "metadata": {},
   "source": []
  },
  {
   "cell_type": "markdown",
   "id": "979c7faf",
   "metadata": {},
   "source": []
  },
  {
   "cell_type": "markdown",
   "id": "c85338f2",
   "metadata": {},
   "source": []
  },
  {
   "cell_type": "markdown",
   "id": "78e5980f",
   "metadata": {},
   "source": []
  },
  {
   "cell_type": "markdown",
   "id": "ca464adb",
   "metadata": {},
   "source": []
  },
  {
   "cell_type": "code",
   "execution_count": null,
   "id": "2b16a652",
   "metadata": {},
   "outputs": [],
   "source": []
  },
  {
   "cell_type": "markdown",
   "id": "0cd51a1f",
   "metadata": {},
   "source": []
  },
  {
   "cell_type": "markdown",
   "id": "2c047ffe",
   "metadata": {},
   "source": []
  },
  {
   "cell_type": "markdown",
   "id": "26abd4b3",
   "metadata": {},
   "source": []
  },
  {
   "cell_type": "code",
   "execution_count": null,
   "id": "5352bb12",
   "metadata": {},
   "outputs": [],
   "source": []
  },
  {
   "cell_type": "markdown",
   "id": "56dfe882",
   "metadata": {},
   "source": []
  },
  {
   "cell_type": "code",
   "execution_count": null,
   "id": "ef4e81ad",
   "metadata": {},
   "outputs": [],
   "source": []
  }
 ],
 "metadata": {
  "kernelspec": {
   "display_name": "Python 3",
   "language": "python",
   "name": "python3"
  },
  "language_info": {
   "name": "python",
   "version": "3.13.3"
  }
 },
 "nbformat": 4,
 "nbformat_minor": 5
}
