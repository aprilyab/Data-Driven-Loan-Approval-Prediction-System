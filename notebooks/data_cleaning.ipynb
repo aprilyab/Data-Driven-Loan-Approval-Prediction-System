{
 "cells": [
  {
   "cell_type": "markdown",
   "id": "6b072b30",
   "metadata": {},
   "source": [
    "## data processing and cleaning"
   ]
  },
  {
   "cell_type": "code",
   "execution_count": 1,
   "id": "d77d5adb",
   "metadata": {},
   "outputs": [],
   "source": [
    "import pandas as pd \n",
    "import numpy as np\n",
    "from sklearn.preprocessing import OneHotEncoder\n",
    "from sklearn.preprocessing import StandardScaler\n",
    "from sklearn.preprocessing import LabelEncoder"
   ]
  },
  {
   "cell_type": "code",
   "execution_count": 3,
   "id": "46166a2b",
   "metadata": {},
   "outputs": [],
   "source": [
    " # load the raw data\n",
    "df=pd.read_csv(\"../data/raw/loan_approval_dataset.csv\")"
   ]
  },
  {
   "cell_type": "code",
   "execution_count": 4,
   "id": "d02fe6eb",
   "metadata": {},
   "outputs": [],
   "source": [
    " # drop missing values\n",
    "df.dropna(inplace=True)\n",
    "  # count the number of the duplicated rows\n",
    "duplicated=df.duplicated().sum()\n"
   ]
  },
  {
   "cell_type": "code",
   "execution_count": 5,
   "id": "77048bfe",
   "metadata": {},
   "outputs": [],
   "source": [
    "cat_cols=df.select_dtypes(include=[\"object\",\"category\"]).columns.tolist()\n",
    "num_cols=df.select_dtypes(include=[\"float64\",\"int64\"]).columns.tolist()\n"
   ]
  },
  {
   "cell_type": "code",
   "execution_count": 6,
   "id": "e42aaf50",
   "metadata": {},
   "outputs": [],
   "source": [
    "# scale the numerical columns\n",
    "scaler=StandardScaler()\n",
    "scaled_df=scaler.fit_transform(df[num_cols])\n",
    "scaled_df=pd.DataFrame(scaled_df,columns=scaler.get_feature_names_out(num_cols))"
   ]
  },
  {
   "cell_type": "code",
   "execution_count": 7,
   "id": "d94b580b",
   "metadata": {},
   "outputs": [],
   "source": [
    " # merge with the origin data\n",
    "df=pd.concat([df.drop(columns=num_cols),scaled_df],axis=True)\n"
   ]
  },
  {
   "cell_type": "code",
   "execution_count": 8,
   "id": "b903e7c5",
   "metadata": {},
   "outputs": [],
   "source": [
    "# encode the category columns\n",
    "# remove the targe column\n",
    "cat_cols.remove(\" loan_status\")\n",
    "encoder=OneHotEncoder(sparse_output=False,drop=\"first\")\n",
    "\n",
    "encoded_df=encoder.fit_transform(df[cat_cols])\n",
    "\n",
    "# change category data to datadrame\n",
    "encoded_df=pd.DataFrame(encoded_df,columns=encoder.get_feature_names_out(cat_cols))\n"
   ]
  },
  {
   "cell_type": "code",
   "execution_count": 9,
   "id": "99c5694c",
   "metadata": {},
   "outputs": [],
   "source": [
    " # encode the target feature\n",
    "target_encoder=LabelEncoder()\n",
    "df[\" loan_status\"]=target_encoder.fit_transform(df[\" loan_status\"])\n",
    "\n",
    "# invert (0->1,1->0)\n",
    "df[\" loan_status\"]=df[\" loan_status\"].apply(lambda x: 1-x)\n",
    "# marge with the main data frame\n",
    "df=pd.concat([df.drop(columns=cat_cols),encoded_df],axis=1)"
   ]
  },
  {
   "cell_type": "code",
   "execution_count": 10,
   "id": "2dc7d862",
   "metadata": {},
   "outputs": [],
   "source": [
    "df[\" self_employed\"]=df[\" self_employed_ Yes\"]\n",
    "df[\" education\"]=df[\" education_ Not Graduate\"]\n",
    "\n",
    "df.drop(columns=[\" education_ Not Graduate\", \" self_employed_ Yes\"], inplace=True)"
   ]
  },
  {
   "cell_type": "code",
   "execution_count": null,
   "id": "7f317b67",
   "metadata": {},
   "outputs": [],
   "source": [
    "df.to_csv(\"data/processed/processed_loan_approval_dataset.csv\",index=False)"
   ]
  },
  {
   "cell_type": "code",
   "execution_count": null,
   "id": "b96ad976",
   "metadata": {},
   "outputs": [],
   "source": []
  },
  {
   "cell_type": "code",
   "execution_count": null,
   "id": "30413df0",
   "metadata": {},
   "outputs": [],
   "source": []
  },
  {
   "cell_type": "code",
   "execution_count": null,
   "id": "8514d063",
   "metadata": {},
   "outputs": [],
   "source": []
  }
 ],
 "metadata": {
  "kernelspec": {
   "display_name": "Python 3",
   "language": "python",
   "name": "python3"
  },
  "language_info": {
   "codemirror_mode": {
    "name": "ipython",
    "version": 3
   },
   "file_extension": ".py",
   "mimetype": "text/x-python",
   "name": "python",
   "nbconvert_exporter": "python",
   "pygments_lexer": "ipython3",
   "version": "3.13.3"
  }
 },
 "nbformat": 4,
 "nbformat_minor": 5
}
